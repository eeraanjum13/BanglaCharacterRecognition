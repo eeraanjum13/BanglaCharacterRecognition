{
  "nbformat": 4,
  "nbformat_minor": 0,
  "metadata": {
    "colab": {
      "name": "rnn10.ipynb",
      "provenance": [],
      "collapsed_sections": []
    },
    "kernelspec": {
      "name": "python3",
      "display_name": "Python 3"
    }
  },
  "cells": [
    {
      "cell_type": "code",
      "metadata": {
        "id": "rMcsHA5IetNb",
        "colab_type": "code",
        "outputId": "7461dda6-2427-41d8-a78e-9e70ca4ab2be",
        "colab": {
          "base_uri": "https://localhost:8080/",
          "height": 35
        }
      },
      "source": [
        "from google.colab import drive\n",
        "drive.mount('/content/gdrive')"
      ],
      "execution_count": 0,
      "outputs": [
        {
          "output_type": "stream",
          "text": [
            "Drive already mounted at /content/gdrive; to attempt to forcibly remount, call drive.mount(\"/content/gdrive\", force_remount=True).\n"
          ],
          "name": "stdout"
        }
      ]
    },
    {
      "cell_type": "code",
      "metadata": {
        "id": "EsZNpBDFF58M",
        "colab_type": "code",
        "outputId": "c19e1413-3f37-419e-aa46-86be1931b391",
        "colab": {
          "base_uri": "https://localhost:8080/",
          "height": 35
        }
      },
      "source": [
        "import keras\n",
        "from keras.models import Sequential\n",
        "from keras.layers import Dense, Dropout, Flatten\n",
        "from keras.utils import to_categorical\n",
        "from keras.preprocessing import image\n",
        "%tensorflow_version 2.x"
      ],
      "execution_count": 0,
      "outputs": [
        {
          "output_type": "stream",
          "text": [
            "TensorFlow is already loaded. Please restart the runtime to change versions.\n"
          ],
          "name": "stdout"
        }
      ]
    },
    {
      "cell_type": "code",
      "metadata": {
        "id": "QELe_O8Bi9-Z",
        "colab_type": "code",
        "colab": {}
      },
      "source": [
        "import numpy as np\n",
        "import pandas as pd\n",
        "import matplotlib.pyplot as plt\n",
        "from sklearn.model_selection import train_test_split\n",
        "from tqdm import tqdm\n",
        "%matplotlib inline"
      ],
      "execution_count": 0,
      "outputs": []
    },
    {
      "cell_type": "code",
      "metadata": {
        "id": "M3PStxtxi-ZG",
        "colab_type": "code",
        "outputId": "d4afdbb6-32cb-449f-dd2f-0f04b9261917",
        "colab": {
          "base_uri": "https://localhost:8080/",
          "height": 288
        }
      },
      "source": [
        "train_set = pd.read_csv('/content/gdrive/My Drive/nn_image/train_labels5.csv')\n",
        "train_set.head()"
      ],
      "execution_count": 0,
      "outputs": [
        {
          "output_type": "execute_result",
          "data": {
            "text/html": [
              "<div>\n",
              "<style scoped>\n",
              "    .dataframe tbody tr th:only-of-type {\n",
              "        vertical-align: middle;\n",
              "    }\n",
              "\n",
              "    .dataframe tbody tr th {\n",
              "        vertical-align: top;\n",
              "    }\n",
              "\n",
              "    .dataframe thead th {\n",
              "        text-align: right;\n",
              "    }\n",
              "</style>\n",
              "<table border=\"1\" class=\"dataframe\">\n",
              "  <thead>\n",
              "    <tr style=\"text-align: right;\">\n",
              "      <th></th>\n",
              "      <th>Id</th>\n",
              "      <th>Letter</th>\n",
              "      <th>অ</th>\n",
              "      <th>আ</th>\n",
              "      <th>ই</th>\n",
              "      <th>ঈ</th>\n",
              "      <th>উ</th>\n",
              "      <th>ঊ</th>\n",
              "      <th>ঋ</th>\n",
              "      <th>এ</th>\n",
              "      <th>ঐ</th>\n",
              "      <th>ও</th>\n",
              "      <th>ঔ</th>\n",
              "      <th>ক</th>\n",
              "      <th>খ</th>\n",
              "      <th>গ</th>\n",
              "      <th>ঘ</th>\n",
              "      <th>ঙ</th>\n",
              "      <th>চ</th>\n",
              "      <th>ছ</th>\n",
              "      <th>জ</th>\n",
              "      <th>ঝ</th>\n",
              "      <th>ঞ</th>\n",
              "      <th>ট</th>\n",
              "      <th>ঠ</th>\n",
              "      <th>ড</th>\n",
              "      <th>ঢ</th>\n",
              "      <th>ণ</th>\n",
              "      <th>ত</th>\n",
              "      <th>থ</th>\n",
              "      <th>দ</th>\n",
              "      <th>ধ</th>\n",
              "      <th>ন</th>\n",
              "      <th>প</th>\n",
              "      <th>ফ</th>\n",
              "      <th>ব</th>\n",
              "      <th>ভ</th>\n",
              "      <th>ম</th>\n",
              "      <th>য</th>\n",
              "      <th>র</th>\n",
              "      <th>ল</th>\n",
              "      <th>শ</th>\n",
              "      <th>ষ</th>\n",
              "      <th>স</th>\n",
              "      <th>হ</th>\n",
              "      <th>ড়</th>\n",
              "      <th>ঢ়</th>\n",
              "      <th>য়</th>\n",
              "    </tr>\n",
              "  </thead>\n",
              "  <tbody>\n",
              "    <tr>\n",
              "      <th>0</th>\n",
              "      <td>bw1</td>\n",
              "      <td>['ল', 'ম', 'য়']</td>\n",
              "      <td>0</td>\n",
              "      <td>1</td>\n",
              "      <td>0</td>\n",
              "      <td>0</td>\n",
              "      <td>0</td>\n",
              "      <td>0</td>\n",
              "      <td>0</td>\n",
              "      <td>0</td>\n",
              "      <td>0</td>\n",
              "      <td>0</td>\n",
              "      <td>0</td>\n",
              "      <td>0</td>\n",
              "      <td>0</td>\n",
              "      <td>0</td>\n",
              "      <td>0</td>\n",
              "      <td>0</td>\n",
              "      <td>0</td>\n",
              "      <td>0</td>\n",
              "      <td>0</td>\n",
              "      <td>0</td>\n",
              "      <td>0</td>\n",
              "      <td>0</td>\n",
              "      <td>0</td>\n",
              "      <td>0</td>\n",
              "      <td>0</td>\n",
              "      <td>0</td>\n",
              "      <td>0</td>\n",
              "      <td>0</td>\n",
              "      <td>0</td>\n",
              "      <td>0</td>\n",
              "      <td>0</td>\n",
              "      <td>0</td>\n",
              "      <td>0</td>\n",
              "      <td>0</td>\n",
              "      <td>0</td>\n",
              "      <td>1</td>\n",
              "      <td>0</td>\n",
              "      <td>0</td>\n",
              "      <td>0</td>\n",
              "      <td>0</td>\n",
              "      <td>0</td>\n",
              "      <td>0</td>\n",
              "      <td>0</td>\n",
              "      <td>0</td>\n",
              "      <td>0</td>\n",
              "      <td>1</td>\n",
              "    </tr>\n",
              "    <tr>\n",
              "      <th>1</th>\n",
              "      <td>bw2</td>\n",
              "      <td>['আ', 'দ', 'ব']</td>\n",
              "      <td>0</td>\n",
              "      <td>1</td>\n",
              "      <td>0</td>\n",
              "      <td>0</td>\n",
              "      <td>0</td>\n",
              "      <td>0</td>\n",
              "      <td>0</td>\n",
              "      <td>0</td>\n",
              "      <td>0</td>\n",
              "      <td>0</td>\n",
              "      <td>0</td>\n",
              "      <td>0</td>\n",
              "      <td>0</td>\n",
              "      <td>0</td>\n",
              "      <td>0</td>\n",
              "      <td>0</td>\n",
              "      <td>0</td>\n",
              "      <td>0</td>\n",
              "      <td>0</td>\n",
              "      <td>0</td>\n",
              "      <td>0</td>\n",
              "      <td>0</td>\n",
              "      <td>0</td>\n",
              "      <td>0</td>\n",
              "      <td>0</td>\n",
              "      <td>0</td>\n",
              "      <td>0</td>\n",
              "      <td>0</td>\n",
              "      <td>1</td>\n",
              "      <td>0</td>\n",
              "      <td>0</td>\n",
              "      <td>0</td>\n",
              "      <td>0</td>\n",
              "      <td>1</td>\n",
              "      <td>0</td>\n",
              "      <td>0</td>\n",
              "      <td>0</td>\n",
              "      <td>0</td>\n",
              "      <td>0</td>\n",
              "      <td>0</td>\n",
              "      <td>0</td>\n",
              "      <td>0</td>\n",
              "      <td>0</td>\n",
              "      <td>0</td>\n",
              "      <td>0</td>\n",
              "      <td>0</td>\n",
              "    </tr>\n",
              "    <tr>\n",
              "      <th>2</th>\n",
              "      <td>bw3</td>\n",
              "      <td>['ই', 'র']</td>\n",
              "      <td>0</td>\n",
              "      <td>0</td>\n",
              "      <td>1</td>\n",
              "      <td>0</td>\n",
              "      <td>0</td>\n",
              "      <td>0</td>\n",
              "      <td>0</td>\n",
              "      <td>0</td>\n",
              "      <td>0</td>\n",
              "      <td>0</td>\n",
              "      <td>0</td>\n",
              "      <td>0</td>\n",
              "      <td>0</td>\n",
              "      <td>0</td>\n",
              "      <td>0</td>\n",
              "      <td>0</td>\n",
              "      <td>0</td>\n",
              "      <td>0</td>\n",
              "      <td>0</td>\n",
              "      <td>0</td>\n",
              "      <td>0</td>\n",
              "      <td>0</td>\n",
              "      <td>0</td>\n",
              "      <td>0</td>\n",
              "      <td>0</td>\n",
              "      <td>0</td>\n",
              "      <td>0</td>\n",
              "      <td>0</td>\n",
              "      <td>0</td>\n",
              "      <td>0</td>\n",
              "      <td>0</td>\n",
              "      <td>0</td>\n",
              "      <td>0</td>\n",
              "      <td>0</td>\n",
              "      <td>0</td>\n",
              "      <td>0</td>\n",
              "      <td>0</td>\n",
              "      <td>1</td>\n",
              "      <td>0</td>\n",
              "      <td>0</td>\n",
              "      <td>0</td>\n",
              "      <td>0</td>\n",
              "      <td>0</td>\n",
              "      <td>0</td>\n",
              "      <td>0</td>\n",
              "      <td>0</td>\n",
              "    </tr>\n",
              "    <tr>\n",
              "      <th>3</th>\n",
              "      <td>bw4</td>\n",
              "      <td>['র', 'ক', 'ব']</td>\n",
              "      <td>0</td>\n",
              "      <td>0</td>\n",
              "      <td>0</td>\n",
              "      <td>0</td>\n",
              "      <td>0</td>\n",
              "      <td>0</td>\n",
              "      <td>0</td>\n",
              "      <td>0</td>\n",
              "      <td>0</td>\n",
              "      <td>0</td>\n",
              "      <td>0</td>\n",
              "      <td>1</td>\n",
              "      <td>0</td>\n",
              "      <td>0</td>\n",
              "      <td>0</td>\n",
              "      <td>0</td>\n",
              "      <td>0</td>\n",
              "      <td>0</td>\n",
              "      <td>0</td>\n",
              "      <td>0</td>\n",
              "      <td>0</td>\n",
              "      <td>0</td>\n",
              "      <td>0</td>\n",
              "      <td>0</td>\n",
              "      <td>0</td>\n",
              "      <td>0</td>\n",
              "      <td>0</td>\n",
              "      <td>0</td>\n",
              "      <td>0</td>\n",
              "      <td>0</td>\n",
              "      <td>0</td>\n",
              "      <td>0</td>\n",
              "      <td>0</td>\n",
              "      <td>1</td>\n",
              "      <td>0</td>\n",
              "      <td>0</td>\n",
              "      <td>0</td>\n",
              "      <td>1</td>\n",
              "      <td>0</td>\n",
              "      <td>0</td>\n",
              "      <td>0</td>\n",
              "      <td>0</td>\n",
              "      <td>0</td>\n",
              "      <td>0</td>\n",
              "      <td>0</td>\n",
              "      <td>0</td>\n",
              "    </tr>\n",
              "    <tr>\n",
              "      <th>4</th>\n",
              "      <td>bw5</td>\n",
              "      <td>['আ', 'ম']</td>\n",
              "      <td>0</td>\n",
              "      <td>1</td>\n",
              "      <td>0</td>\n",
              "      <td>0</td>\n",
              "      <td>0</td>\n",
              "      <td>0</td>\n",
              "      <td>0</td>\n",
              "      <td>0</td>\n",
              "      <td>0</td>\n",
              "      <td>0</td>\n",
              "      <td>0</td>\n",
              "      <td>0</td>\n",
              "      <td>0</td>\n",
              "      <td>0</td>\n",
              "      <td>0</td>\n",
              "      <td>0</td>\n",
              "      <td>0</td>\n",
              "      <td>0</td>\n",
              "      <td>0</td>\n",
              "      <td>0</td>\n",
              "      <td>0</td>\n",
              "      <td>0</td>\n",
              "      <td>0</td>\n",
              "      <td>0</td>\n",
              "      <td>0</td>\n",
              "      <td>0</td>\n",
              "      <td>0</td>\n",
              "      <td>0</td>\n",
              "      <td>0</td>\n",
              "      <td>0</td>\n",
              "      <td>0</td>\n",
              "      <td>0</td>\n",
              "      <td>0</td>\n",
              "      <td>0</td>\n",
              "      <td>0</td>\n",
              "      <td>1</td>\n",
              "      <td>0</td>\n",
              "      <td>0</td>\n",
              "      <td>0</td>\n",
              "      <td>0</td>\n",
              "      <td>0</td>\n",
              "      <td>0</td>\n",
              "      <td>0</td>\n",
              "      <td>0</td>\n",
              "      <td>0</td>\n",
              "      <td>0</td>\n",
              "    </tr>\n",
              "  </tbody>\n",
              "</table>\n",
              "</div>"
            ],
            "text/plain": [
              "    Id           Letter  অ  আ  ই  ঈ  উ  ঊ  ঋ  এ  ...  য  র  ল  শ  ষ  স  হ  ড়  ঢ়  য়\n",
              "0  bw1  ['ল', 'ম', 'য়']  0  1  0  0  0  0  0  0  ...  0  0  0  0  0  0  0  0  0  1\n",
              "1  bw2  ['আ', 'দ', 'ব']  0  1  0  0  0  0  0  0  ...  0  0  0  0  0  0  0  0  0  0\n",
              "2  bw3       ['ই', 'র']  0  0  1  0  0  0  0  0  ...  0  1  0  0  0  0  0  0  0  0\n",
              "3  bw4  ['র', 'ক', 'ব']  0  0  0  0  0  0  0  0  ...  0  1  0  0  0  0  0  0  0  0\n",
              "4  bw5       ['আ', 'ম']  0  1  0  0  0  0  0  0  ...  0  0  0  0  0  0  0  0  0  0\n",
              "\n",
              "[5 rows x 48 columns]"
            ]
          },
          "metadata": {
            "tags": []
          },
          "execution_count": 168
        }
      ]
    },
    {
      "cell_type": "code",
      "metadata": {
        "id": "HtPxr8A8i-eF",
        "colab_type": "code",
        "outputId": "ea19477c-7967-4576-f14c-64bc31705cd7",
        "colab": {
          "base_uri": "https://localhost:8080/",
          "height": 35
        }
      },
      "source": [
        "train_set.shape"
      ],
      "execution_count": 0,
      "outputs": [
        {
          "output_type": "execute_result",
          "data": {
            "text/plain": [
              "(107, 48)"
            ]
          },
          "metadata": {
            "tags": []
          },
          "execution_count": 169
        }
      ]
    },
    {
      "cell_type": "code",
      "metadata": {
        "id": "l0oaKHWvi-gl",
        "colab_type": "code",
        "outputId": "9a75b1c2-6c31-433e-a5ab-d79f2a6b866f",
        "colab": {
          "base_uri": "https://localhost:8080/",
          "height": 35
        }
      },
      "source": [
        "train_set_images = []\n",
        "\n",
        "for i in tqdm(range(train_set.shape[0])):\n",
        "    \n",
        "    img = image.load_img('/content/gdrive/My Drive/nn_image/Images_grayscale-2/Images_grayscale/' + train_set['Id'][i] + '.jpg', target_size=(1000,1000), color_mode=\"grayscale\")\n",
        "    img = image.img_to_array(img)\n",
        "    img = img/255.0\n",
        "    train_set_images.append(img)\n",
        "\n",
        "X = np.array(train_set_images)\n",
        "img_row, img_col = X.shape[1], X.shape[2]"
      ],
      "execution_count": 0,
      "outputs": [
        {
          "output_type": "stream",
          "text": [
            "100%|██████████| 107/107 [00:00<00:00, 244.95it/s]\n"
          ],
          "name": "stderr"
        }
      ]
    },
    {
      "cell_type": "code",
      "metadata": {
        "id": "197FnP7gFc5y",
        "colab_type": "code",
        "outputId": "999a5414-dac1-4871-dbb1-f3f70a2bb978",
        "colab": {
          "base_uri": "https://localhost:8080/",
          "height": 35
        }
      },
      "source": [
        "X.shape"
      ],
      "execution_count": 0,
      "outputs": [
        {
          "output_type": "execute_result",
          "data": {
            "text/plain": [
              "(107, 1000, 1000, 1)"
            ]
          },
          "metadata": {
            "tags": []
          },
          "execution_count": 171
        }
      ]
    },
    {
      "cell_type": "code",
      "metadata": {
        "id": "KD42J9FhjnAK",
        "colab_type": "code",
        "outputId": "3f92443e-7df7-47d8-cc20-61bd769fa700",
        "colab": {
          "base_uri": "https://localhost:8080/",
          "height": 35
        }
      },
      "source": [
        "y = np.array(train_set.drop(['Id', 'Letter'],axis=1))\n",
        "y.shape"
      ],
      "execution_count": 0,
      "outputs": [
        {
          "output_type": "execute_result",
          "data": {
            "text/plain": [
              "(107, 46)"
            ]
          },
          "metadata": {
            "tags": []
          },
          "execution_count": 172
        }
      ]
    },
    {
      "cell_type": "code",
      "metadata": {
        "id": "prJbjcGvjnDc",
        "colab_type": "code",
        "colab": {}
      },
      "source": [
        "train_data, test_data, train_labels, test_labels = train_test_split(X, y, random_state=40, test_size=0.10)"
      ],
      "execution_count": 0,
      "outputs": []
    },
    {
      "cell_type": "code",
      "metadata": {
        "id": "gAvKdif-o2yZ",
        "colab_type": "code",
        "outputId": "5ac706fd-b9c5-4140-b261-654532636ac9",
        "colab": {
          "base_uri": "https://localhost:8080/",
          "height": 35
        }
      },
      "source": [
        "train_data.shape\n",
        "test_data.shape"
      ],
      "execution_count": 0,
      "outputs": [
        {
          "output_type": "execute_result",
          "data": {
            "text/plain": [
              "(11, 1000, 1000, 1)"
            ]
          },
          "metadata": {
            "tags": []
          },
          "execution_count": 174
        }
      ]
    },
    {
      "cell_type": "code",
      "metadata": {
        "id": "KXNaDOh7o5Ee",
        "colab_type": "code",
        "outputId": "1383414e-d688-4566-9fff-2be4521fb987",
        "colab": {
          "base_uri": "https://localhost:8080/",
          "height": 35
        }
      },
      "source": [
        "train_labels.shape\n",
        "#test_labels.shape"
      ],
      "execution_count": 0,
      "outputs": [
        {
          "output_type": "execute_result",
          "data": {
            "text/plain": [
              "(96, 46)"
            ]
          },
          "metadata": {
            "tags": []
          },
          "execution_count": 175
        }
      ]
    },
    {
      "cell_type": "code",
      "metadata": {
        "id": "815SNlc3qprv",
        "colab_type": "code",
        "colab": {}
      },
      "source": [
        "train_data = train_data.reshape((96, 1000, 1000))"
      ],
      "execution_count": 0,
      "outputs": []
    },
    {
      "cell_type": "code",
      "metadata": {
        "id": "DwOrFcJyrjm5",
        "colab_type": "code",
        "colab": {}
      },
      "source": [
        "#train_labels= train_labels.reshape((36,53))\n",
        "train_labels= train_labels.reshape((96,46))"
      ],
      "execution_count": 0,
      "outputs": []
    },
    {
      "cell_type": "code",
      "metadata": {
        "id": "TwreHTborwGj",
        "colab_type": "code",
        "colab": {}
      },
      "source": [
        "test_data = test_data.reshape((11, 1000, 1000))\n",
        "test_labels= test_labels.reshape((11,46))"
      ],
      "execution_count": 0,
      "outputs": []
    },
    {
      "cell_type": "code",
      "metadata": {
        "id": "WX9GTB5fkJIU",
        "colab_type": "code",
        "outputId": "86663526-1586-45c0-ac7f-839e5e2baf42",
        "colab": {
          "base_uri": "https://localhost:8080/",
          "height": 1000
        }
      },
      "source": [
        "from __future__ import absolute_import, division, print_function, unicode_literals\n",
        "\n",
        "import collections\n",
        "import matplotlib.pyplot as plt\n",
        "import numpy as np\n",
        "from keras.models import Sequential\n",
        "from keras.layers import Dense,Activation,Dropout\n",
        "from keras.layers import LSTM\n",
        "import tensorflow as tf\n",
        "from tensorflow.keras import layers\n",
        "from keras import optimizers\n",
        "\n",
        "#sgd = optimizers.sgd(lr=0.2, decay=1e-6, momentum=0.9, nesterov=True)\n",
        "#ad = optimizers.Adam(lr=0.2, decay=1e-6)\n",
        "#model = tf.keras.Sequential()\n",
        "# Add an Embedding layer expecting input vocab of size 1000, and\n",
        "# output embedding dimension of size 64.\n",
        "#model.add(layers.Embedding(input_dim=1000, output_dim=64))\n",
        "import numpy as np\n",
        "np.random.seed(1337) \n",
        "\n",
        "model = Sequential()\n",
        "model.add(LSTM(5, input_shape=(1000, 1000),activation='sigmoid'))\n",
        "model.add(Dropout(0.1))\n",
        "\n",
        "model.add(Dense(46, activation='softmax'))\n",
        "model.summary()\n",
        "model.compile(loss='mean_absolute_error', optimizer='adam' ,metrics=['accuracy'])\n",
        "\n",
        "model.fit(train_data, train_labels, nb_epoch=20, batch_size=10, verbose=2,validation_data=(test_data, test_labels))"
      ],
      "execution_count": 0,
      "outputs": [
        {
          "output_type": "stream",
          "text": [
            "Model: \"sequential_40\"\n",
            "_________________________________________________________________\n",
            "Layer (type)                 Output Shape              Param #   \n",
            "=================================================================\n",
            "lstm_41 (LSTM)               (None, 5)                 20120     \n",
            "_________________________________________________________________\n",
            "dropout_22 (Dropout)         (None, 5)                 0         \n",
            "_________________________________________________________________\n",
            "dense_42 (Dense)             (None, 46)                276       \n",
            "=================================================================\n",
            "Total params: 20,396\n",
            "Trainable params: 20,396\n",
            "Non-trainable params: 0\n",
            "_________________________________________________________________\n"
          ],
          "name": "stdout"
        },
        {
          "output_type": "stream",
          "text": [
            "/usr/local/lib/python3.6/dist-packages/ipykernel_launcher.py:29: UserWarning: The `nb_epoch` argument in `fit` has been renamed `epochs`.\n"
          ],
          "name": "stderr"
        },
        {
          "output_type": "stream",
          "text": [
            "Train on 96 samples, validate on 11 samples\n",
            "Epoch 1/20\n",
            " - 15s - loss: 0.0666 - acc: 0.0313 - val_loss: 0.0689 - val_acc: 0.0000e+00\n",
            "Epoch 2/20\n",
            " - 7s - loss: 0.0665 - acc: 0.0104 - val_loss: 0.0689 - val_acc: 0.0000e+00\n",
            "Epoch 3/20\n",
            " - 7s - loss: 0.0665 - acc: 0.0104 - val_loss: 0.0688 - val_acc: 0.0000e+00\n",
            "Epoch 4/20\n",
            " - 7s - loss: 0.0665 - acc: 0.0000e+00 - val_loss: 0.0688 - val_acc: 0.0000e+00\n",
            "Epoch 5/20\n",
            " - 7s - loss: 0.0665 - acc: 0.0000e+00 - val_loss: 0.0688 - val_acc: 0.0000e+00\n",
            "Epoch 6/20\n",
            " - 7s - loss: 0.0664 - acc: 0.0000e+00 - val_loss: 0.0688 - val_acc: 0.0000e+00\n",
            "Epoch 7/20\n",
            " - 7s - loss: 0.0664 - acc: 0.0000e+00 - val_loss: 0.0688 - val_acc: 0.0000e+00\n",
            "Epoch 8/20\n",
            " - 7s - loss: 0.0664 - acc: 0.0000e+00 - val_loss: 0.0687 - val_acc: 0.0000e+00\n",
            "Epoch 9/20\n",
            " - 7s - loss: 0.0664 - acc: 0.0417 - val_loss: 0.0687 - val_acc: 0.1818\n",
            "Epoch 10/20\n",
            " - 7s - loss: 0.0664 - acc: 0.0729 - val_loss: 0.0687 - val_acc: 0.1818\n",
            "Epoch 11/20\n",
            " - 7s - loss: 0.0664 - acc: 0.0833 - val_loss: 0.0687 - val_acc: 0.1818\n",
            "Epoch 12/20\n",
            " - 7s - loss: 0.0664 - acc: 0.0729 - val_loss: 0.0686 - val_acc: 0.1818\n",
            "Epoch 13/20\n",
            " - 7s - loss: 0.0663 - acc: 0.0938 - val_loss: 0.0686 - val_acc: 0.1818\n",
            "Epoch 14/20\n",
            " - 7s - loss: 0.0663 - acc: 0.0938 - val_loss: 0.0686 - val_acc: 0.1818\n",
            "Epoch 15/20\n",
            " - 7s - loss: 0.0663 - acc: 0.0938 - val_loss: 0.0686 - val_acc: 0.1818\n",
            "Epoch 16/20\n",
            " - 7s - loss: 0.0663 - acc: 0.0938 - val_loss: 0.0686 - val_acc: 0.1818\n",
            "Epoch 17/20\n",
            " - 7s - loss: 0.0663 - acc: 0.0833 - val_loss: 0.0685 - val_acc: 0.1818\n",
            "Epoch 18/20\n",
            " - 9s - loss: 0.0662 - acc: 0.0833 - val_loss: 0.0685 - val_acc: 0.1818\n",
            "Epoch 19/20\n",
            " - 7s - loss: 0.0662 - acc: 0.0938 - val_loss: 0.0685 - val_acc: 0.1818\n",
            "Epoch 20/20\n",
            " - 7s - loss: 0.0662 - acc: 0.0833 - val_loss: 0.0685 - val_acc: 0.1818\n"
          ],
          "name": "stdout"
        },
        {
          "output_type": "execute_result",
          "data": {
            "text/plain": [
              "<keras.callbacks.History at 0x7ff2ca386518>"
            ]
          },
          "metadata": {
            "tags": []
          },
          "execution_count": 179
        }
      ]
    },
    {
      "cell_type": "code",
      "metadata": {
        "id": "qIE3wqPlmWtx",
        "colab_type": "code",
        "outputId": "dbc89e21-cb7e-43ff-e0ea-d50ad3cc8e8c",
        "colab": {
          "base_uri": "https://localhost:8080/",
          "height": 52
        }
      },
      "source": [
        "model.evaluate(test_data, test_labels, batch_size=10)"
      ],
      "execution_count": 0,
      "outputs": [
        {
          "output_type": "stream",
          "text": [
            "11/11 [==============================] - 0s 22ms/step\n"
          ],
          "name": "stdout"
        },
        {
          "output_type": "execute_result",
          "data": {
            "text/plain": [
              "[0.06846419721841812, 0.18181818452748386]"
            ]
          },
          "metadata": {
            "tags": []
          },
          "execution_count": 183
        }
      ]
    },
    {
      "cell_type": "code",
      "metadata": {
        "id": "pNQsu764-8tz",
        "colab_type": "code",
        "outputId": "34a413ac-e9f9-4fa2-b8e2-b90be625e97d",
        "colab": {
          "base_uri": "https://localhost:8080/",
          "height": 106
        }
      },
      "source": [
        "img = image.load_img('/content/gdrive/My Drive/nn_image/Images_grayscale-2/chata.JPG',target_size=(1000,1000,1), color_mode=\"grayscale\")\n",
        "img = image.img_to_array(img)\n",
        "img = img/255\n",
        "\n",
        "classes = np.array(train_set.columns[2:])\n",
        "probability = model.predict(img.reshape(1,1000,1000))\n",
        "top_5_letters_symbols = np.argsort(probability[0])[:-6:-1]\n",
        "for i in range(5):\n",
        "    print(\"{}\".format(classes[top_5_letters_symbols[i]])+\" ({:.4})\".format(probability[0][top_5_letters_symbols[i]]))"
      ],
      "execution_count": 0,
      "outputs": [
        {
          "output_type": "stream",
          "text": [
            "ক (0.0391)\n",
            "ড় (0.03483)\n",
            "ট (0.0344)\n",
            "ছ (0.03327)\n",
            "আ (0.03207)\n"
          ],
          "name": "stdout"
        }
      ]
    }
  ]
}